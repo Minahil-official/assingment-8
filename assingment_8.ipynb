{
  "nbformat": 4,
  "nbformat_minor": 0,
  "metadata": {
    "colab": {
      "provenance": [],
      "toc_visible": true,
      "authorship_tag": "ABX9TyON5tXdvmhQzbctU1PUer+f",
      "include_colab_link": true
    },
    "kernelspec": {
      "name": "python3",
      "display_name": "Python 3"
    },
    "language_info": {
      "name": "python"
    }
  },
  "cells": [
    {
      "cell_type": "markdown",
      "metadata": {
        "id": "view-in-github",
        "colab_type": "text"
      },
      "source": [
        "<a href=\"https://colab.research.google.com/github/Minahil-official/assingment-8/blob/main/assingment_8.ipynb\" target=\"_parent\"><img src=\"https://colab.research.google.com/assets/colab-badge.svg\" alt=\"Open In Colab\"/></a>"
      ]
    },
    {
      "cell_type": "code",
      "execution_count": 2,
      "metadata": {
        "colab": {
          "base_uri": "https://localhost:8080/"
        },
        "id": "TmqlLZH3tjzE",
        "outputId": "eda642ec-759c-4a24-b270-62ed19ac7fff"
      },
      "outputs": [
        {
          "output_type": "stream",
          "name": "stdout",
          "text": [
            "enter your first number8\n",
            "enter your second number6\n",
            "14\n",
            "2\n",
            "48\n",
            "1\n"
          ]
        }
      ],
      "source": [
        "num1 = int(input('enter your first number'))\n",
        "num2 = int(input('enter your second number'))\n",
        "def addition(num1,num2):\n",
        "  \"\"\"make sum of these numbers\"\"\"\n",
        "  return num1+num2\n",
        "print(addition(num1,num2))\n",
        "def subtraction(num1,num2):\n",
        "  \"\"\"make subtraction of these numbers\"\"\"\n",
        "  return num1-num2\n",
        "print(subtraction(num1,num2))\n",
        "def multiplication(num1,num2):\n",
        "  \"\"\"make multiplication of these numbers\"\"\"\n",
        "  return num1*num2\n",
        "print(multiplication(num1,num2))\n",
        "def division(num1,num2):\n",
        "  \"\"\"make division of these numbers\"\"\"\n",
        "  if num2==0:\n",
        "    return 'error'\n",
        "  return num1//num2\n",
        "print(division(num1,num2))\n",
        "\n",
        "\n"
      ]
    },
    {
      "cell_type": "code",
      "source": [
        "\n",
        "while True:\n",
        "\n",
        "  num1 = int(input('enter your first number'))\n",
        "  num2 = int(input('enter your second number'))\n",
        "\n",
        "  print('enter your choice')\n",
        "  print('1.addition')\n",
        "  print('2.subtraction')\n",
        "  print('3.multiplication')\n",
        "  print('4.division')\n",
        "  choice = int(input())\n",
        "\n",
        "\n",
        "  if choice==1:\n",
        "    print(addition(num1,num2))\n",
        "    break\n",
        "  if choice==2:\n",
        "    print(subtraction(num1,num2))\n",
        "    break\n",
        "  if choice==3:\n",
        "    print(multiplication(num1,num2))\n",
        "    break\n",
        "  if choice==4:\n",
        "    print(division(num1,num2))\n",
        "    break\n",
        "\n",
        "  else:\n",
        "    print('invalid choice')\n",
        "    break\n",
        "\n",
        "\n",
        "\n"
      ],
      "metadata": {
        "colab": {
          "base_uri": "https://localhost:8080/"
        },
        "id": "zVXiqMN-edZY",
        "outputId": "2dcf8ca4-136e-4165-cfd3-5f5fda09b743"
      },
      "execution_count": 29,
      "outputs": [
        {
          "output_type": "stream",
          "name": "stdout",
          "text": [
            "enter your first number8\n",
            "enter your second number7\n",
            "enter your choice\n",
            "1.addition\n",
            "2.subtraction\n",
            "3.multiplication\n",
            "4.division\n",
            "7\n",
            "invalid choice\n"
          ]
        }
      ]
    }
  ]
}